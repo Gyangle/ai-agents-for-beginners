{
 "cells": [
  {
   "cell_type": "markdown",
   "metadata": {},
   "source": [
    "# Semantic Kernel \n",
    "\n",
    "In this code sample, you will use the [Semantic Kernel](https://aka.ms/ai-agents-beginners/semantic-kernel) AI Framework to create a basic agent. \n",
    "\n",
    "The goal of this sample is to show you the steps that we will later use in the additional code samples when implementing the different agentic patterns. "
   ]
  },
  {
   "cell_type": "markdown",
   "metadata": {},
   "source": [
    "## Import the Needed Python Packages "
   ]
  },
  {
   "cell_type": "code",
   "execution_count": 2,
   "metadata": {},
   "outputs": [],
   "source": [
    "import os \n",
    "from typing import Annotated\n",
    "from openai import AsyncOpenAI\n",
    "\n",
    "from dotenv import load_dotenv\n",
    "\n",
    "from semantic_kernel.agents import ChatCompletionAgent, ChatHistoryAgentThread\n",
    "from semantic_kernel.connectors.ai.open_ai import OpenAIChatCompletion\n",
    "from semantic_kernel.functions import kernel_function"
   ]
  },
  {
   "cell_type": "markdown",
   "metadata": {},
   "source": [
    "## Creating the Client\n",
    "\n",
    "In this sample, we will use [GitHub Models](https://aka.ms/ai-agents-beginners/github-models) for access to the LLM. \n",
    "\n",
    "The `ai_model_id` is defined as `gpt-4o-mini`. Try changing the model to another model available on the GitHub Models marketplace to see the different results. \n",
    "\n",
    "For us to use the `Azure Inference SDK` that is used for the `base_url` for GitHub Models, we will use the `OpenAIChatCompletion` connector within Semantic Kernel. There are also other [available connectors](https://learn.microsoft.com/semantic-kernel/concepts/ai-services/chat-completion) to use Semantic Kernel for other model providers."
   ]
  },
  {
   "cell_type": "code",
   "execution_count": 3,
   "metadata": {},
   "outputs": [],
   "source": [
    "import random   \n",
    "\n",
    "# Define a sample plugin for the sample\n",
    "\n",
    "class DestinationsPlugin:\n",
    "    \"\"\"A List of Random Destinations for a vacation.\"\"\"\n",
    "\n",
    "    def __init__(self):\n",
    "        # List of vacation destinations\n",
    "        self.destinations = [\n",
    "            \"Barcelona, Spain\",\n",
    "            \"Paris, France\",\n",
    "            \"Berlin, Germany\",\n",
    "            \"Tokyo, Japan\",\n",
    "            \"Sydney, Australia\",\n",
    "            \"New York, USA\",\n",
    "            \"Cairo, Egypt\",\n",
    "            \"Cape Town, South Africa\",\n",
    "            \"Rio de Janeiro, Brazil\",\n",
    "            \"Bali, Indonesia\"\n",
    "        ]\n",
    "        # Track last destination to avoid repeats\n",
    "        self.last_destination = None\n",
    "\n",
    "    @kernel_function(description=\"Provides a random vacation destination.\")\n",
    "    def get_random_destination(self) -> Annotated[str, \"Returns a random vacation destination.\"]:\n",
    "        # Get available destinations (excluding last one if possible)\n",
    "        available_destinations = self.destinations.copy()\n",
    "        if self.last_destination and len(available_destinations) > 1:\n",
    "            available_destinations.remove(self.last_destination)\n",
    "\n",
    "        # Select a random destination\n",
    "        destination = random.choice(available_destinations)\n",
    "\n",
    "        # Update the last destination\n",
    "        self.last_destination = destination\n",
    "\n",
    "        return destination"
   ]
  },
  {
   "cell_type": "code",
   "execution_count": 4,
   "metadata": {},
   "outputs": [],
   "source": [
    "load_dotenv()\n",
    "client = AsyncOpenAI(\n",
    "    api_key=os.environ.get(\"GITHUB_TOKEN\"), \n",
    "    base_url=\"https://models.inference.ai.azure.com/\",\n",
    ")\n",
    "\n",
    "# Create an AI Service that will be used by the `ChatCompletionAgent`\n",
    "chat_completion_service = OpenAIChatCompletion(\n",
    "    ai_model_id=\"gpt-4o-mini\",\n",
    "    async_client=client,\n",
    ")"
   ]
  },
  {
   "cell_type": "markdown",
   "metadata": {},
   "source": [
    "## Creating the Agent \n",
    "\n",
    "Below we create the Agent called `TravelAgent`.\n",
    "\n",
    "For this example, we are using very simple instructions. You can change these instructions to see how the agent responds differently. "
   ]
  },
  {
   "cell_type": "code",
   "execution_count": 5,
   "metadata": {},
   "outputs": [],
   "source": [
    "agent = ChatCompletionAgent(\n",
    "    service=chat_completion_service, \n",
    "    plugins=[DestinationsPlugin()],\n",
    "    name=\"TravelAgent\",\n",
    "    instructions=\"You are a helpful AI Agent that can help plan vacations for customers at random destinations\",\n",
    ")"
   ]
  },
  {
   "cell_type": "markdown",
   "metadata": {},
   "source": [
    "## Running the Agent\n",
    "\n",
    "Now we can run the Agent by defining a thread of type `ChatHistoryAgentThread`.  Any required system messages are provided to the agent's invoke_stream `messages` keyword argument.\n",
    "\n",
    "After these are defined, we create a `user_inputs` that will be what the user is sending to the agent. In this case, we have set this message to `Plan me a sunny vacation`. \n",
    "\n",
    "Feel free to change this message to see how the agent responds differently. "
   ]
  },
  {
   "cell_type": "code",
   "execution_count": 8,
   "metadata": {},
   "outputs": [
    {
     "name": "stdout",
     "output_type": "stream",
     "text": [
      "# User: Plan me a day trip.\n",
      "\n",
      "# TravelAgent: You're set for a day trip to New York, USA! Here's a suggested itinerary for your adventure:\n",
      "\n",
      "### Morning:\n",
      "- **Breakfast at a Local Café:** Start your day with a hearty breakfast at a café in the West Village or a bagel shop.\n",
      "- **Visit Central Park:** Take a stroll through Central Park. You can rent a bike or just walk through and enjoy the sights, such as the Bethesda Terrace and the Bow Bridge.\n",
      "\n",
      "### Midday:\n",
      "- **Lunch in Midtown:** Head to a diner or a trendy restaurant in Midtown Manhattan for lunch. Try a classic New York cheeseburger or a slice of pizza.\n",
      "- **Explore Times Square:** After lunch, wander through the vibrant lights of Times Square. Take some photos and enjoy the street performers.\n",
      "\n",
      "### Afternoon:\n",
      "- **Visit a Museum:** Choose between the Museum of Modern Art (MoMA) or the American Museum of Natural History. Spend a couple of hours exploring the exhibits.\n",
      "- **Walk along the High Line:** If time permits, walk along the High Line, an elevated park built on a former railroad track. It offers beautiful views of the city and unique art installations.\n",
      "\n",
      "### Evening:\n",
      "- **Dinner in Chelsea or the East Village:** Choose from a variety of restaurants in these neighborhoods, offering everything from ethnic cuisine to upscale dining.\n",
      "- **Broadway Show or Live Music:** End your day with a Broadway show or check out some live music in the East Village or Lower Manhattan.\n",
      "\n",
      "### Additional Tips:\n",
      "- **Transportation:** Use the subway for fast travel around the city.\n",
      "- **Check Schedule:** Make sure to check the schedule for your chosen show or museum in advance.\n",
      "\n",
      "Enjoy your day trip to New York!\n",
      "# User: Give me another city.\n",
      "\n",
      "# TravelAgent: Your next day trip destination is Berlin, Germany! Here's a suggested itinerary to make the most of your visit:\n",
      "\n",
      "### Morning:\n",
      "- **Breakfast at a Local Café:** Start your day with a traditional German breakfast at a cozy café in Mitte, such as Café Einstein.\n",
      "- **Visit the Brandenburg Gate:** After breakfast, make your way to the iconic Brandenburg Gate, a symbol of Berlin's history.\n",
      "\n",
      "### Midday:\n",
      "- **Explore the Berlin Wall Memorial:** Learn about the history of the Berlin Wall and its significance at the memorial site. Take a leisurely walk along Bernauer Straße.\n",
      "- **Lunch in Prenzlauer Berg:** Head to the Prenzlauer Berg neighborhood for lunch. Try some local street food or dine at a popular restaurant like Markthalle Neun.\n",
      "\n",
      "### Afternoon:\n",
      "- **Visit the Museum Island:** Spend the afternoon exploring Museum Island, which features several world-class museums. You can choose to visit the Pergamon Museum or the Neues Museum.\n",
      "- **Stroll through Tiergarten:** Enjoy some fresh air with a walk in Tiergarten, Berlin's large urban park.\n",
      "\n",
      "### Evening:\n",
      "- **Dinner in Kreuzberg:** Head to Kreuzberg for a diverse range of dining options, including Turkish cuisine or trendy vegan spots.\n",
      "- **Nightlife or Cultural Event:** Consider ending your day by experiencing Berlin's famous nightlife. Check out a bar, nightclub, or perhaps a cultural event like an art gallery opening.\n",
      "\n",
      "### Additional Tips:\n",
      "- **Public Transport:** Use Berlin's efficient public transportation system (U-Bahn and S-Bahn) to get around easily.\n",
      "- **Check Opening Hours:** Make sure to check the opening hours of museums and restaurants in advance.\n",
      "\n",
      "Enjoy your day trip to Berlin!\n",
      "# User: Whats will i experience differently there? Comparing to the fisrt trip you planned.\n",
      "\n",
      "# TravelAgent: When comparing your day trip to New York City and Berlin, you'll experience a variety of cultural, historical, and culinary differences. Here are some key contrasts:\n",
      "\n",
      "### Cultural Differences:\n",
      "1. **Historical Context:**\n",
      "   - **New York:** Focuses on a blend of modern cosmopolitan life and historical landmarks, such as Wall Street and Ellis Island, reflecting its immigrant history.\n",
      "   - **Berlin:** Steeped in 20th-century history, especially related to World War II and the Cold War. You’ll encounter significant sites like the Berlin Wall and the Reichstag building.\n",
      "\n",
      "2. **Architectural Styles:**\n",
      "   - **New York:** Known for its iconic skyline which includes skyscrapers like the Empire State Building and modern architecture.\n",
      "   - **Berlin:** A mix of historical and contemporary architecture, from classical structures like the Brandenburg Gate to modern designs found throughout the city.\n",
      "\n",
      "### Culinary Differences:\n",
      "1. **Food Scene:**\n",
      "   - **New York:** Offers a diverse culinary landscape with influences from around the world, including deli sandwiches, bagels, and fine dining options.\n",
      "   - **Berlin:** Features a vibrant street food culture, with options like currywurst, döner kebab, and international cuisines reflecting its multicultural population.\n",
      "\n",
      "### Leisure and Activities:\n",
      "1. **Parks and Outdoor Spaces:**\n",
      "   - **New York:** Central Park is a key highlight, known for its organized landscapes, picturesque spots, and recreational activities.\n",
      "   - **Berlin:** Tiergarten offers more casual park experiences, often frequented by locals for picnics, cycling, and leisurely strolls among historical monuments.\n",
      "\n",
      "2. **Museums and Galleries:**\n",
      "   - **New York:** Primarily focused on contemporary art, history, and culture with institutions such as MoMA and the American Museum of Natural History.\n",
      "   - **Berlin:** Historic and art-focused museums on Museum Island feature artifacts like the Pergamon Altar, offering insights into ancient civilizations.\n",
      "\n",
      "### Nightlife and Entertainment:\n",
      "1. **Nightlife:**\n",
      "   - **New York:** Known for Broadway shows, rooftop bars, and a bustling nightlife scene with diverse entertainment options.\n",
      "   - **Berlin:** Renowned for its unique nightlife, featuring a wide array of eclectic clubs and cultural events, such as street art shows and music events.\n",
      "\n",
      "### Local Atmosphere:\n",
      "- **New York:** A fast-paced, high-energy vibe with a multicultural crowd, and people often in a rush.\n",
      "- **Berlin:** A more laid-back atmosphere with an alternative culture, known for its artistic expression and openness.\n",
      "\n",
      "In summary, while both cities offer vibrant experiences, your trip to Berlin will immerse you in a rich historical context and a different cultural vibe, alongside a unique culinary and nightlife scene.\n"
     ]
    }
   ],
   "source": [
    "async def main():\n",
    "    # Create a new thread for the agent\n",
    "    # If no thread is provided, a new thread will be\n",
    "    # created and returned with the initial response\n",
    "    thread: ChatHistoryAgentThread | None = None\n",
    "\n",
    "    user_inputs = [\n",
    "        \"Plan me a day trip.\",\n",
    "        \"Give me another city.\",\n",
    "        \"Whats will i experience differently there? Comparing to the fisrt trip you planned.\",\n",
    "    ]\n",
    "\n",
    "    for user_input in user_inputs:\n",
    "        print(f\"# User: {user_input}\\n\")\n",
    "        first_chunk = True\n",
    "        async for response in agent.invoke_stream(\n",
    "            messages=user_input, thread=thread,\n",
    "        ):\n",
    "            # 5. Print the response\n",
    "            if first_chunk:\n",
    "                print(f\"# {response.name}: \", end=\"\", flush=True)\n",
    "                first_chunk = False\n",
    "            print(f\"{response}\", end=\"\", flush=True)\n",
    "            thread = response.thread\n",
    "        print()\n",
    "\n",
    "    # Clean up the thread\n",
    "    await thread.delete() if thread else None\n",
    "\n",
    "await main()"
   ]
  },
  {
   "cell_type": "code",
   "execution_count": null,
   "metadata": {},
   "outputs": [],
   "source": []
  },
  {
   "cell_type": "code",
   "execution_count": null,
   "metadata": {},
   "outputs": [],
   "source": []
  },
  {
   "cell_type": "code",
   "execution_count": null,
   "metadata": {},
   "outputs": [],
   "source": []
  }
 ],
 "metadata": {
  "kernelspec": {
   "display_name": ".venv",
   "language": "python",
   "name": "python3"
  },
  "language_info": {
   "codemirror_mode": {
    "name": "ipython",
    "version": 3
   },
   "file_extension": ".py",
   "mimetype": "text/x-python",
   "name": "python",
   "nbconvert_exporter": "python",
   "pygments_lexer": "ipython3",
   "version": "3.12.0"
  }
 },
 "nbformat": 4,
 "nbformat_minor": 2
}
